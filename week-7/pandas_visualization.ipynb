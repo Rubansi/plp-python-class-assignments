{
  "cells": [
    {
      "cell_type": "code",
      "execution_count": 1,
      "metadata": {},
      "outputs": [
        {
          "ename": "ModuleNotFoundError",
          "evalue": "No module named 'matplotlib'",
          "output_type": "error",
          "traceback": [
            "\u001b[31m---------------------------------------------------------------------------\u001b[39m",
            "\u001b[31mModuleNotFoundError\u001b[39m                       Traceback (most recent call last)",
            "\u001b[36mCell\u001b[39m\u001b[36m \u001b[39m\u001b[32mIn[1]\u001b[39m\u001b[32m, line 2\u001b[39m\n\u001b[32m      1\u001b[39m \u001b[38;5;28;01mimport\u001b[39;00m\u001b[38;5;250m \u001b[39m\u001b[34;01mpandas\u001b[39;00m\u001b[38;5;250m \u001b[39m\u001b[38;5;28;01mas\u001b[39;00m\u001b[38;5;250m \u001b[39m\u001b[34;01mpd\u001b[39;00m\n\u001b[32m----> \u001b[39m\u001b[32m2\u001b[39m \u001b[38;5;28;01mimport\u001b[39;00m\u001b[38;5;250m \u001b[39m\u001b[34;01mmatplotlib\u001b[39;00m\u001b[34;01m.\u001b[39;00m\u001b[34;01mpyplot\u001b[39;00m\u001b[38;5;250m \u001b[39m\u001b[38;5;28;01mas\u001b[39;00m\u001b[38;5;250m \u001b[39m\u001b[34;01mplt\u001b[39;00m\n\u001b[32m      3\u001b[39m \u001b[38;5;28;01mimport\u001b[39;00m\u001b[38;5;250m \u001b[39m\u001b[34;01mseaborn\u001b[39;00m\u001b[38;5;250m \u001b[39m\u001b[38;5;28;01mas\u001b[39;00m\u001b[38;5;250m \u001b[39m\u001b[34;01msns\u001b[39;00m\n\u001b[32m      4\u001b[39m \u001b[38;5;28;01mfrom\u001b[39;00m\u001b[38;5;250m \u001b[39m\u001b[34;01msklearn\u001b[39;00m\u001b[34;01m.\u001b[39;00m\u001b[34;01mdatasets\u001b[39;00m\u001b[38;5;250m \u001b[39m\u001b[38;5;28;01mimport\u001b[39;00m load_iris\n",
            "\u001b[31mModuleNotFoundError\u001b[39m: No module named 'matplotlib'"
          ]
        }
      ],
      "source": [
        "import pandas as pd\n",
        "import matplotlib.pyplot as plt\n",
        "import seaborn as sns\n",
        "from sklearn.datasets import load_iris\n",
        "\n",
        "# -------------------\n",
        "# Task 1: Load and Explore the Dataset\n",
        "# -------------------\n",
        "\n",
        "# Load iris dataset from sklearn (offline)\n",
        "iris_data = load_iris(as_frame=True)\n",
        "df = iris_data.frame\n",
        "# Rename columns to match typical iris dataset style\n",
        "df.columns = ['sepal_length', 'sepal_width', 'petal_length', 'petal_width', 'species']\n",
        "\n",
        "# Display the first few rows\n",
        "print(\"First rows:\")\n",
        "print(df.head())\n",
        "\n",
        "# Explore structure\n",
        "print(\"\\nData types:\")\n",
        "print(df.dtypes)\n",
        "\n",
        "print(\"\\nMissing values:\")\n",
        "print(df.isnull().sum())\n",
        "\n",
        "# Clean the dataset (no missing values in iris dataset, but example)\n",
        "df_cleaned = df.dropna()\n",
        "\n",
        "# -------------------\n",
        "# Task 2: Basic Data Analysis\n",
        "# -------------------\n",
        "print(\"\\nBasic statistics:\")\n",
        "print(df_cleaned.describe())\n",
        "\n",
        "print(\"\\nGroup means by species:\")\n",
        "group_means = df_cleaned.groupby('species').mean(numeric_only=True)\n",
        "print(group_means)\n",
        "\n",
        "# -------------------\n",
        "# Task 3: Data Visualization\n",
        "# -------------------\n",
        "\n",
        "# 1. Line chart: sepal length trend across index\n",
        "plt.figure(figsize=(8, 5))\n",
        "plt.plot(df_cleaned.index, df_cleaned['sepal_length'], label='Sepal Length')\n",
        "plt.title('Line Chart: Sepal Length Trend over Index')\n",
        "plt.xlabel('Index')\n",
        "plt.ylabel('Sepal Length')\n",
        "plt.legend()\n",
        "plt.grid()\n",
        "plt.show()\n",
        "\n",
        "# 2. Bar chart: Average petal length per species\n",
        "plt.figure(figsize=(8, 5))\n",
        "sns.barplot(x='species', y='petal_length', data=df_cleaned, estimator='mean')\n",
        "plt.title('Bar Chart: Average Petal Length per Species')\n",
        "plt.xlabel('Species')\n",
        "plt.ylabel('Average Petal Length')\n",
        "plt.show()\n",
        "\n",
        "# 3. Histogram: Sepal Width distribution\n",
        "plt.figure(figsize=(8, 5))\n",
        "plt.hist(df_cleaned['sepal_width'], bins=20, edgecolor='black')\n",
        "plt.title('Histogram: Sepal Width Distribution')\n",
        "plt.xlabel('Sepal Width')\n",
        "plt.ylabel('Frequency')\n",
        "plt.show()\n",
        "\n",
        "# 4. Scatter plot: Sepal Length vs Petal Length\n",
        "plt.figure(figsize=(8, 5))\n",
        "sns.scatterplot(x='sepal_length', y='petal_length', hue='species', data=df_cleaned)\n",
        "plt.title('Scatter Plot: Sepal Length vs Petal Length')\n",
        "plt.xlabel('Sepal Length')\n",
        "plt.ylabel('Petal Length')\n",
        "plt.legend(title='Species')\n",
        "plt.show()\n"
      ]
    }
  ],
  "metadata": {
    "colab": {
      "provenance": []
    },
    "kernelspec": {
      "display_name": "Python 3",
      "name": "python3"
    },
    "language_info": {
      "codemirror_mode": {
        "name": "ipython",
        "version": 3
      },
      "file_extension": ".py",
      "mimetype": "text/x-python",
      "name": "python",
      "nbconvert_exporter": "python",
      "pygments_lexer": "ipython3",
      "version": "3.13.5"
    }
  },
  "nbformat": 4,
  "nbformat_minor": 0
}
